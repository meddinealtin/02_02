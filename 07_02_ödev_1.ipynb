{
 "cells": [
  {
   "cell_type": "code",
   "execution_count": 7,
   "metadata": {},
   "outputs": [
    {
     "data": {
      "text/plain": [
       "4"
      ]
     },
     "execution_count": 7,
     "metadata": {},
     "output_type": "execute_result"
    }
   ],
   "source": [
    "1+3"
   ]
  },
  {
   "cell_type": "code",
   "execution_count": 7,
   "metadata": {},
   "outputs": [
    {
     "name": "stdout",
     "output_type": "stream",
     "text": [
      "ilk değer 10\n",
      "ikinci değer 20\n",
      "200\n"
     ]
    }
   ],
   "source": [
    "x=int(input(\"ilk değeri giriniz\"))\n",
    "y=int(input(\"ikinci değeri giriniz\"))\n",
    "print(\"ilk değer\",  x)\n",
    "print(\"ikinci değer\", y)\n",
    "if x==int(x) and y==int(y):\n",
    "    print(x*y)\n"
   ]
  },
  {
   "cell_type": "code",
   "execution_count": 10,
   "metadata": {},
   "outputs": [
    {
     "name": "stdout",
     "output_type": "stream",
     "text": [
      "22\n"
     ]
    }
   ],
   "source": [
    "x=int(input(\"bir sayı giriniz\"))\n",
    "if x%2==1 :\n",
    "    print(x*2)\n",
    "elif x%2==0 :\n",
    "    print(x**2)"
   ]
  },
  {
   "cell_type": "code",
   "execution_count": 6,
   "metadata": {},
   "outputs": [
    {
     "name": "stdout",
     "output_type": "stream",
     "text": [
      "ilk değer 20\n",
      "ikinci değer 10\n",
      "True\n"
     ]
    }
   ],
   "source": [
    "sayı_1=int(input(\"ilk değeri giriniz\"))\n",
    "sayı_2=int(input(\"ikinci değeri giriniz\"))\n",
    "print(\"ilk değer\",sayı_1)\n",
    "print(\"ikinci değer\",sayı_2)\n",
    "if sayı_1==sayı_2 or (sayı_1-sayı_2)%5==0 or (sayı_2-sayı_1)%5==0 :\n",
    "    print(True)\n",
    "else :\n",
    "    print(False)\n"
   ]
  },
  {
   "cell_type": "code",
   "execution_count": 1,
   "metadata": {},
   "outputs": [
    {
     "name": "stdout",
     "output_type": "stream",
     "text": [
      "girilen sınav notu 20.0\n",
      "F\n"
     ]
    }
   ],
   "source": [
    "sınav_not=float(input(\"sınav notunuzu giriniz\"))\n",
    "print(\"girilen sınav notu\",sınav_not)\n",
    "if 80 <=sınav_not <=100:\n",
    "    print(\"A\")\n",
    "elif 65 <= sınav_not <80 :\n",
    "    print(\"B\")\n",
    "elif 55 <= sınav_not <65 :\n",
    "    print(\"C\")\n",
    "elif 35 <= sınav_not < 55 :\n",
    "    print(\"D\")\n",
    "elif 0 <= sınav_not <35 :\n",
    "    print(\"F\")\n",
    "else :\n",
    "    print(\"sınav notunuzu 0 ile 100 arasında bir değer olarak giriniz\")"
   ]
  },
  {
   "cell_type": "code",
   "execution_count": 8,
   "metadata": {},
   "outputs": [
    {
     "name": "stdout",
     "output_type": "stream",
     "text": [
      "girilen_sn: saat: 1 dakika: 3 saniye: 20\n"
     ]
    }
   ],
   "source": [
    "girilen_sn= int(input(\"saniye değeri giriniz\"))\n",
    "\n",
    "saat=(girilen_sn//3600)\n",
    "dakika=(girilen_sn%3600)//60\n",
    "saniye=(girilen_sn)%60\n",
    "if girilen_sn >= 3600 :\n",
    "    \n",
    "    print(\"girilen_sn:\",\"saat:\",saat,\"dakika:\",dakika,\"saniye:\",saniye)\n"
   ]
  },
  {
   "cell_type": "code",
   "execution_count": null,
   "metadata": {},
   "outputs": [],
   "source": []
  }
 ],
 "metadata": {
  "kernelspec": {
   "display_name": "Python 3",
   "language": "python",
   "name": "python3"
  },
  "language_info": {
   "codemirror_mode": {
    "name": "ipython",
    "version": 3
   },
   "file_extension": ".py",
   "mimetype": "text/x-python",
   "name": "python",
   "nbconvert_exporter": "python",
   "pygments_lexer": "ipython3",
   "version": "3.12.1"
  }
 },
 "nbformat": 4,
 "nbformat_minor": 2
}
